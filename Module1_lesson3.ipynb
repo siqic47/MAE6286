{
 "cells": [
  {
   "cell_type": "code",
   "execution_count": 1,
   "metadata": {},
   "outputs": [],
   "source": [
    "import numpy\n",
    "from matplotlib import pyplot\n",
    "%matplotlib inline"
   ]
  },
  {
   "cell_type": "code",
   "execution_count": 2,
   "metadata": {},
   "outputs": [],
   "source": [
    "#initialization\n",
    "g = 9.81\n",
    "CD = 1.0/40.0\n",
    "CL = 1.0\n",
    "vt = 30\n",
    "vt2 = vt**2\n",
    "v0,theta0,x0,y0= vt,0.0,0.0,1000.0\n",
    "T = 100\n",
    "dt = 0.1"
   ]
  },
  {
   "cell_type": "code",
   "execution_count": 3,
   "metadata": {},
   "outputs": [],
   "source": [
    "#Euler method\n",
    "def euler(T,dt):\n",
    "    N = int(T/dt)+1\n",
    "    t = numpy.arange(0.0, T+dt, dt)\n",
    "    u = numpy.zeros((N,4))\n",
    "    u[0,:] = [v0,theta0,x0,y0]\n",
    "    \n",
    "    for n in range(0,N-1):\n",
    "        f_n = numpy.array([\n",
    "            -g*numpy.sin(u[n,1])-CD/CL*g/vt2*u[n,0]**2,\n",
    "            -g/u[n,0]*numpy.cos(u[n,1]) + g/vt2 * u[n,0],\n",
    "            u[n,0]*numpy.cos(u[n,1]),\n",
    "            u[n,0]*numpy.sin(u[n,1])\n",
    "        ])\n",
    "        u[n+1] = u[n] + dt * f_n\n",
    "    return u"
   ]
  },
  {
   "cell_type": "code",
   "execution_count": 4,
   "metadata": {},
   "outputs": [
    {
     "data": {
      "image/png": "[encoded data removed]",
      "text/plain": [
       "<Figure size 432x288 with 1 Axes>"
      ]
     },
     "metadata": {},
     "output_type": "display_data"
    }
   ],
   "source": [
    "u = euler(T,dt)\n",
    "pyplot.plot(u[:,2],u[:,3]);"
   ]
  },
  {
   "cell_type": "markdown",
   "metadata": {},
   "source": [
    "Calculate order of convergence"
   ]
  },
  {
   "cell_type": "code",
   "execution_count": 14,
   "metadata": {},
   "outputs": [],
   "source": [
    "r = 2\n",
    "dt3 = 0.004 #largest\n",
    "dt2 = dt3/r\n",
    "dt1 = dt2/r\n",
    "\n",
    "f3 = euler(T,dt3)\n",
    "f2 = euler(T,dt2)\n",
    "f1 = euler(T,dt1)"
   ]
  },
  {
   "cell_type": "code",
   "execution_count": 19,
   "metadata": {},
   "outputs": [],
   "source": [
    "f32 = 0\n",
    "for n in range(len(f3)):\n",
    "    f32 = f32 + numpy.abs(f3[n, 0] - f2[r*n, 0]) + numpy.abs(f3[n, 1] - f2[r*n, 1]) + numpy.abs(f3[n, 2] - f2[r*n, 2])+ numpy.abs(f3[n, 3] - f2[r*n, 3])\n",
    "f32 = f32*dt3"
   ]
  },
  {
   "cell_type": "code",
   "execution_count": 20,
   "metadata": {},
   "outputs": [],
   "source": [
    "f21 = 0\n",
    "for n in range(len(f2)):\n",
    "    f21 = f21 + numpy.abs(f2[n, 0] - f1[r*n, 0])+ numpy.abs(f2[n, 1] - f1[r*n, 1]) + numpy.abs(f2[n, 2] - f1[r*n, 2])+ numpy.abs(f2[n, 3] - f1[r*n, 3])\n",
    "f21 = f21*dt2"
   ]
  },
  {
   "cell_type": "code",
   "execution_count": 21,
   "metadata": {},
   "outputs": [],
   "source": [
    "p = numpy.log10(f32/f21)/numpy.log10(r)"
   ]
  },
  {
   "cell_type": "code",
   "execution_count": 22,
   "metadata": {},
   "outputs": [
    {
     "name": "stdout",
     "output_type": "stream",
     "text": [
      "1.0138644205997545\n"
     ]
    }
   ],
   "source": [
    "print(p)"
   ]
  }
 ],
 "metadata": {
  "kernelspec": {
   "display_name": "Python 3",
   "language": "python",
   "name": "python3"
  },
  "language_info": {
   "codemirror_mode": {
    "name": "ipython",
    "version": 3
   },
   "file_extension": ".py",
   "mimetype": "text/x-python",
   "name": "python",
   "nbconvert_exporter": "python",
   "pygments_lexer": "ipython3",
   "version": "3.6.2"
  }
 },
 "nbformat": 4,
 "nbformat_minor": 2
}
