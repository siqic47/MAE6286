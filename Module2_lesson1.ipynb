{
 "cells": [
  {
   "cell_type": "markdown",
   "metadata": {},
   "source": [
    "#1D linear convection"
   ]
  },
  {
   "cell_type": "code",
   "execution_count": 2,
   "metadata": {},
   "outputs": [],
   "source": [
    "import numpy\n",
    "from matplotlib import pyplot\n",
    "%matplotlib inline"
   ]
  },
  {
   "cell_type": "code",
   "execution_count": 66,
   "metadata": {},
   "outputs": [],
   "source": [
    "#Set parameters\n",
    "nx = 41 #number of lenth points\n",
    "L = 2.0 #length\n",
    "dx = L/(nx-1) #griding\n",
    "nt = 25\n",
    "dt = 0.02\n",
    "c = 1.0 #constant"
   ]
  },
  {
   "cell_type": "code",
   "execution_count": 67,
   "metadata": {},
   "outputs": [],
   "source": [
    "x = numpy.linspace(0.0, L, num=nx)"
   ]
  },
  {
   "cell_type": "code",
   "execution_count": 68,
   "metadata": {},
   "outputs": [
    {
     "data": {
      "text/plain": [
       "(array([10, 11, 12, 13, 14, 15, 16, 17, 18, 19, 20]),)"
      ]
     },
     "execution_count": 68,
     "metadata": {},
     "output_type": "execute_result"
    }
   ],
   "source": [
    "u0 = numpy.ones(nx)\n",
    "mask = numpy.where((x >= 0.5) & (x<=1.0))\n",
    "mask"
   ]
  },
  {
   "cell_type": "code",
   "execution_count": 69,
   "metadata": {},
   "outputs": [],
   "source": [
    "u0[mask]= 2.0"
   ]
  },
  {
   "cell_type": "code",
   "execution_count": 70,
   "metadata": {},
   "outputs": [
    {
     "name": "stdout",
     "output_type": "stream",
     "text": [
      "0.0 1.0\n",
      "0.05 1.0\n",
      "0.1 1.0\n",
      "0.15000000000000002 1.0\n",
      "0.2 1.0\n",
      "0.25 1.0\n",
      "0.30000000000000004 1.0\n",
      "0.35000000000000003 1.0\n",
      "0.4 1.0\n",
      "0.45 1.0\n",
      "0.5 2.0\n",
      "0.55 2.0\n",
      "0.6000000000000001 2.0\n",
      "0.65 2.0\n",
      "0.7000000000000001 2.0\n",
      "0.75 2.0\n",
      "0.8 2.0\n",
      "0.8500000000000001 2.0\n",
      "0.9 2.0\n",
      "0.9500000000000001 2.0\n",
      "1.0 2.0\n",
      "1.05 1.0\n",
      "1.1 1.0\n",
      "1.1500000000000001 1.0\n",
      "1.2000000000000002 1.0\n",
      "1.25 1.0\n",
      "1.3 1.0\n",
      "1.35 1.0\n",
      "1.4000000000000001 1.0\n",
      "1.4500000000000002 1.0\n",
      "1.5 1.0\n",
      "1.55 1.0\n",
      "1.6 1.0\n",
      "1.6500000000000001 1.0\n",
      "1.7000000000000002 1.0\n",
      "1.75 1.0\n",
      "1.8 1.0\n",
      "1.85 1.0\n",
      "1.9000000000000001 1.0\n",
      "1.9500000000000002 1.0\n",
      "2.0 1.0\n"
     ]
    }
   ],
   "source": [
    "for i in range(nx):\n",
    "    print(x[i], u0[i])"
   ]
  },
  {
   "cell_type": "code",
   "execution_count": 71,
   "metadata": {},
   "outputs": [],
   "source": [
    "def plot_figure(x,u0,u):\n",
    "    pyplot.figure(figsize = (4.0,4.0))\n",
    "    pyplot.xlabel('x')\n",
    "    pyplot.ylabel('u')\n",
    "    pyplot.grid()\n",
    "    pyplot.plot(x, u0, label='initial')\n",
    "    pyplot.plot(x,u,label = 'current')\n",
    "    pyplot.xlim(0.0,2.0)\n",
    "    pyplot.ylim(0.0,2.5)\n",
    "    pyplot.legend()"
   ]
  },
  {
   "cell_type": "code",
   "execution_count": 72,
   "metadata": {},
   "outputs": [
    {
     "data": {
      "image/png": "[encoded data removed]",
      "text/plain": [
       "<Figure size 288x288 with 1 Axes>"
      ]
     },
     "metadata": {},
     "output_type": "display_data"
    }
   ],
   "source": [
    "plot_figure(x,u0,u0)"
   ]
  },
  {
   "cell_type": "code",
   "execution_count": 73,
   "metadata": {},
   "outputs": [],
   "source": [
    "u = u0.copy()\n",
    "for n in range(nt):\n",
    "    un = u.copy()\n",
    "    for i in range(1,nx):\n",
    "        u[i] = un[i]-c*dt/dx*(un[i]-un[i-1])"
   ]
  },
  {
   "cell_type": "code",
   "execution_count": 74,
   "metadata": {},
   "outputs": [
    {
     "data": {
      "image/png": "[encoded data removed]",
      "text/plain": [
       "<Figure size 288x288 with 1 Axes>"
      ]
     },
     "metadata": {},
     "output_type": "display_data"
    }
   ],
   "source": [
    "plot_figure(x, u0, u)"
   ]
  },
  {
   "cell_type": "markdown",
   "metadata": {},
   "source": [
    "#1D non-linear convection"
   ]
  },
  {
   "cell_type": "code",
   "execution_count": 75,
   "metadata": {},
   "outputs": [],
   "source": [
    "u = u0.copy()\n",
    "for n in range(nt):\n",
    "    un = u.copy()\n",
    "    for i in range(1,nx):\n",
    "        u[i] = un[i]-un[i]*dt/dx*(un[i]-un[i-1])"
   ]
  },
  {
   "cell_type": "code",
   "execution_count": 76,
   "metadata": {},
   "outputs": [
    {
     "data": {
      "image/png": "[encoded data removed]",
      "text/plain": [
       "<Figure size 288x288 with 1 Axes>"
      ]
     },
     "metadata": {},
     "output_type": "display_data"
    }
   ],
   "source": [
    "plot_figure(x, u0, u)"
   ]
  },
  {
   "cell_type": "code",
   "execution_count": 77,
   "metadata": {},
   "outputs": [],
   "source": [
    "#more efficient way using numpy slice\n",
    "a =u = u0.copy()\n",
    "for n in range(nt):\n",
    "    un = u.copy()\n",
    "    u[1:] = un[1:] - un[1:]*dt/dx*(un[1:]-un[:-1])"
   ]
  },
  {
   "cell_type": "code",
   "execution_count": 78,
   "metadata": {},
   "outputs": [
    {
     "data": {
      "image/png": "[encoded data removed]",
      "text/plain": [
       "<Figure size 288x288 with 1 Axes>"
      ]
     },
     "metadata": {},
     "output_type": "display_data"
    }
   ],
   "source": [
    "plot_figure(x, u0, u)"
   ]
  },
  {
   "cell_type": "code",
   "execution_count": null,
   "metadata": {},
   "outputs": [],
   "source": []
  }
 ],
 "metadata": {
  "kernelspec": {
   "display_name": "Python 3",
   "language": "python",
   "name": "python3"
  },
  "language_info": {
   "codemirror_mode": {
    "name": "ipython",
    "version": 3
   },
   "file_extension": ".py",
   "mimetype": "text/x-python",
   "name": "python",
   "nbconvert_exporter": "python",
   "pygments_lexer": "ipython3",
   "version": "3.6.2"
  }
 },
 "nbformat": 4,
 "nbformat_minor": 2
}
