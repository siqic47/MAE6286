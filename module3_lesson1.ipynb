{
 "cells": [
  {
   "cell_type": "code",
   "execution_count": 1,
   "metadata": {},
   "outputs": [],
   "source": [
    "import numpy\n",
    "from matplotlib import pyplot\n",
    "%matplotlib inline"
   ]
  },
  {
   "cell_type": "code",
   "execution_count": 2,
   "metadata": {},
   "outputs": [],
   "source": [
    "#initial condition\n",
    "nx = 81\n",
    "L = 4.0\n",
    "dx = L/(nx-1)\n",
    "u_max = 1.0\n",
    "rho_max = 10.0\n",
    "sigma = 1.0\n",
    "dt = sigma*dx/u_max\n",
    "x = numpy.linspace(0.0, L, nx)"
   ]
  },
  {
   "cell_type": "code",
   "execution_count": 3,
   "metadata": {},
   "outputs": [
    {
     "data": {
      "text/plain": [
       "[<matplotlib.lines.Line2D at 0x7fa8da5de6d8>]"
      ]
     },
     "execution_count": 3,
     "metadata": {},
     "output_type": "execute_result"
    },
    {
     "data": {
      "image/png": "[encoded data removed]",
      "text/plain": [
       "<Figure size 432x288 with 1 Axes>"
      ]
     },
     "metadata": {
      "needs_background": "light"
     },
     "output_type": "display_data"
    }
   ],
   "source": [
    "def ic(x,xl,rho_max):\n",
    "    rho0 = numpy.zeros(nx)\n",
    "    mask = numpy.where((x>=0.0)&(x<=xl))\n",
    "    rho0[mask] = rho_max * x[mask]/xl\n",
    "    return rho0\n",
    "rho0 = ic(x,2,rho_max)\n",
    "pyplot.plot(x,rho0)"
   ]
  },
  {
   "cell_type": "code",
   "execution_count": 4,
   "metadata": {},
   "outputs": [],
   "source": [
    "def flux(rho, u_max, rho_max):\n",
    "    F = rho * velocity(u_max, rho_max,rho)\n",
    "    return F\n",
    "\n",
    "def velocity(u_max, rho_max, rho):\n",
    "    u = u_max * (1 - rho / rho_max)\n",
    "    return u\n",
    "\n",
    "def ftbs(rho0, dt, dx, u_max, rho_max, nt):\n",
    "    rho = rho0.copy()\n",
    "    rho_hist = [rho.copy()]\n",
    "    for n in range(nt):\n",
    "        rho[1:] = rho[1:] - dt/dx *(flux(rho[1:], u_max, rho_max) - flux(rho[:-1],u_max, rho_max))\n",
    "        rho_hist.append(rho)\n",
    "    return rho_hist"
   ]
  },
  {
   "cell_type": "code",
   "execution_count": 5,
   "metadata": {},
   "outputs": [],
   "source": [
    "def plot(n, x, rho_hist):\n",
    "    pyplot.figure()\n",
    "    pyplot.title('Time step: {}'.format(n))\n",
    "    pyplot.xlabel('Road')\n",
    "    pyplot.ylabel('Traffic density')\n",
    "    pyplot.plot(x,rho_hist[n])\n",
    "    pyplot.xlim(x[0],x[-1])\n",
    "    pyplot.ylim(-0.5,11.0)\n",
    "    pyplot.show"
   ]
  },
  {
   "cell_type": "code",
   "execution_count": 6,
   "metadata": {},
   "outputs": [],
   "source": [
    "rho_hist = ftbs(rho0, dt, dx, u_max, rho_max, nt=30)"
   ]
  },
  {
   "cell_type": "code",
   "execution_count": 7,
   "metadata": {},
   "outputs": [],
   "source": [
    "import ipywidgets"
   ]
  },
  {
   "cell_type": "code",
   "execution_count": 8,
   "metadata": {},
   "outputs": [],
   "source": [
    "def interactive_plot(x,rho_hist):\n",
    "    nt = len(rho_hist)-1\n",
    "    nt_slider = ipywidgets.IntSlider(value = 0, min=0, max = nt, step=1, description='Time step')\n",
    "    w = ipywidgets.interactive(plot,n=nt_slider,x=ipywidgets.fixed(x),rho_hist = ipywidgets.fixed(rho_hist))\n",
    "    return w"
   ]
  },
  {
   "cell_type": "code",
   "execution_count": 9,
   "metadata": {},
   "outputs": [
    {
     "data": {
      "application/vnd.jupyter.widget-view+json": {
       "model_id": "de436e3cfa354822a0a31ce358d79fe0",
       "version_major": 2,
       "version_minor": 0
      },
      "text/plain": [
       "interactive(children=(IntSlider(value=0, description='Time step', max=30), Output()), _dom_classes=('widget-in…"
      ]
     },
     "metadata": {},
     "output_type": "display_data"
    }
   ],
   "source": [
    "interactive_plot(x,rho_hist)"
   ]
  },
  {
   "cell_type": "code",
   "execution_count": null,
   "metadata": {},
   "outputs": [],
   "source": []
  }
 ],
 "metadata": {
  "kernelspec": {
   "display_name": "Python 3",
   "language": "python",
   "name": "python3"
  },
  "language_info": {
   "codemirror_mode": {
    "name": "ipython",
    "version": 3
   },
   "file_extension": ".py",
   "mimetype": "text/x-python",
   "name": "python",
   "nbconvert_exporter": "python",
   "pygments_lexer": "ipython3",
   "version": "3.7.3"
  }
 },
 "nbformat": 4,
 "nbformat_minor": 2
}
