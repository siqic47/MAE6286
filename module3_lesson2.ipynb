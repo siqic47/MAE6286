{
 "cells": [
  {
   "cell_type": "code",
   "execution_count": 1,
   "metadata": {},
   "outputs": [],
   "source": [
    "import numpy\n",
    "from matplotlib import pyplot\n",
    "import ipywidgets\n",
    "\n",
    "%matplotlib inline"
   ]
  },
  {
   "cell_type": "code",
   "execution_count": 2,
   "metadata": {},
   "outputs": [],
   "source": [
    "pyplot.rc('font', family = 'serif', size = 16)"
   ]
  },
  {
   "cell_type": "code",
   "execution_count": 3,
   "metadata": {},
   "outputs": [],
   "source": [
    "def rho_red_light(x, rho_max):\n",
    "    rho = numpy.full_like(x, rho_max) #create a array with the same size as x and set everything as rho_max\n",
    "    # same as rho = rho_max * numpy.ones_like(x)\n",
    "    mask = numpy.where(x<3.0)\n",
    "    rho[mask] /= 2 # same as rho[mask] = rho_max/2\n",
    "    return rho"
   ]
  },
  {
   "cell_type": "code",
   "execution_count": 5,
   "metadata": {},
   "outputs": [],
   "source": [
    "#set parameters\n",
    "nx = 81\n",
    "L = 4.0\n",
    "dx = L/(nx - 1)\n",
    "x = numpy.linspace(0.0, L, nx)\n",
    "\n",
    "rho_max = 10.0\n",
    "u_max = 1.0\n",
    "rho0 = rho_red_light(x, rho_max)"
   ]
  },
  {
   "cell_type": "code",
   "execution_count": 11,
   "metadata": {},
   "outputs": [],
   "source": [
    "def plot(n, x, rho_hist):\n",
    "    pyplot.figure()\n",
    "    pyplot.grid()\n",
    "    pyplot.title('Time step: {}'. format(n))\n",
    "    pyplot.xlabel('Road [Km]')\n",
    "    pyplot.ylabel('Traffic density [cars/hr]')\n",
    "    pyplot.plot(x, rho_hist[n])\n",
    "    pyplot.xlim(x[0],x[-1])\n",
    "    pyplot.ylim(4.0, 11.0)\n",
    "    pyplot.show()"
   ]
  },
  {
   "cell_type": "code",
   "execution_count": 12,
   "metadata": {},
   "outputs": [
    {
     "data": {
      "image/png": "[encoded data removed]",
      "text/plain": [
       "<matplotlib.figure.Figure at 0x23992f966a0>"
      ]
     },
     "metadata": {},
     "output_type": "display_data"
    }
   ],
   "source": [
    "plot(0,x,[rho0])"
   ]
  },
  {
   "cell_type": "code",
   "execution_count": 13,
   "metadata": {},
   "outputs": [],
   "source": [
    "def traffic_speed(rho, u_max, rho_max):\n",
    "    return u_max * (1-rho/rho_max)\n",
    "\n",
    "def traffic_flux(rho, u_max, rho_max):\n",
    "    return rho*traffic_speed(rho, u_max, rho_max)"
   ]
  },
  {
   "cell_type": "code",
   "execution_count": 14,
   "metadata": {},
   "outputs": [],
   "source": [
    "def interactive_plot(x, rho_hist):\n",
    "    nt  = len(rho_hist)-1\n",
    "    nt_slider = ipywidgets.IntSlider(value=0, min=0, max=nt, step=1, description='Time step')\n",
    "    w = ipywidgets.interactive(plot, n=nt_slider, x = ipywidgets.fixed(x), rho_hist=ipywidgets.fixed(rho_hist))\n",
    "    return w"
   ]
  },
  {
   "cell_type": "code",
   "execution_count": 15,
   "metadata": {},
   "outputs": [
    {
     "data": {
      "application/vnd.jupyter.widget-view+json": {
       "model_id": "75b93fffd9834dea82b0cb407339f659",
       "version_major": 2,
       "version_minor": 0
      },
      "text/html": [
       "<p>Failed to display Jupyter Widget of type <code>interactive</code>.</p>\n",
       "<p>\n",
       "  If you're reading this message in the Jupyter Notebook or JupyterLab Notebook, it may mean\n",
       "  that the widgets JavaScript is still loading. If this message persists, it\n",
       "  likely means that the widgets JavaScript library is either not installed or\n",
       "  not enabled. See the <a href=\"https://ipywidgets.readthedocs.io/en/stable/user_install.html\">Jupyter\n",
       "  Widgets Documentation</a> for setup instructions.\n",
       "</p>\n",
       "<p>\n",
       "  If you're reading this message in another frontend (for example, a static\n",
       "  rendering on GitHub or <a href=\"https://nbviewer.jupyter.org/\">NBViewer</a>),\n",
       "  it may mean that your frontend doesn't currently support widgets.\n",
       "</p>\n"
      ],
      "text/plain": [
       "interactive(children=(IntSlider(value=0, description='Time step', max=0), Output()), _dom_classes=('widget-interact',))"
      ]
     },
     "metadata": {},
     "output_type": "display_data"
    }
   ],
   "source": [
    "interactive_plot(x,[rho0])"
   ]
  },
  {
   "cell_type": "code",
   "execution_count": 27,
   "metadata": {},
   "outputs": [],
   "source": [
    "def lax_friedrichs(rho0, nt, dt, dx, u_max, rho_max):\n",
    "    rho_hist = [rho0.copy()]\n",
    "    rho = rho0.copy()\n",
    "    #nx = rho0.size\n",
    "    for n in range(nt):\n",
    "        rho[1:-1] = 0.5* (rho[:-2]+rho[2:]) - dt/(2*dx)*(traffic_flux(rho[2:],u_max,rho_max)-traffic_flux(rho[:-2],u_max,rho_max))\n",
    "        #other methods\n",
    "        #F = traffic_flux(rho, u_max, rho_max)\n",
    "        #for i in range(1 , nx-1):\n",
    "        #    rho[i] = (0.5*(rho[i-1]+rho[i+1])- dt*(F[i+1]-F[i-1])/(2*dx))\n",
    "        #F = traffic_flux(rho, u_max, rho_max)\n",
    "        #rho[1:-1] = (0.5*rho[:-2]+ rho[2:])-dt*(F[2:]-F[:-2])/dx)\n",
    "        rho_hist.append(rho.copy())\n",
    "    return rho_hist"
   ]
  },
  {
   "cell_type": "code",
   "execution_count": 28,
   "metadata": {},
   "outputs": [
    {
     "data": {
      "application/vnd.jupyter.widget-view+json": {
       "model_id": "de07e0f58ebb4becab89bef3d07de3e0",
       "version_major": 2,
       "version_minor": 0
      },
      "text/html": [
       "<p>Failed to display Jupyter Widget of type <code>interactive</code>.</p>\n",
       "<p>\n",
       "  If you're reading this message in the Jupyter Notebook or JupyterLab Notebook, it may mean\n",
       "  that the widgets JavaScript is still loading. If this message persists, it\n",
       "  likely means that the widgets JavaScript library is either not installed or\n",
       "  not enabled. See the <a href=\"https://ipywidgets.readthedocs.io/en/stable/user_install.html\">Jupyter\n",
       "  Widgets Documentation</a> for setup instructions.\n",
       "</p>\n",
       "<p>\n",
       "  If you're reading this message in another frontend (for example, a static\n",
       "  rendering on GitHub or <a href=\"https://nbviewer.jupyter.org/\">NBViewer</a>),\n",
       "  it may mean that your frontend doesn't currently support widgets.\n",
       "</p>\n"
      ],
      "text/plain": [
       "interactive(children=(IntSlider(value=0, description='Time step', max=40), Output()), _dom_classes=('widget-interact',))"
      ]
     },
     "metadata": {},
     "output_type": "display_data"
    }
   ],
   "source": [
    "nt = 40\n",
    "sigma = 1.0\n",
    "dt = sigma*dx/u_max\n",
    "rho_hist = lax_friedrichs(rho0, nt, dt, dx, u_max, rho_max)\n",
    "interactive_plot(x, rho_hist)"
   ]
  },
  {
   "cell_type": "code",
   "execution_count": 30,
   "metadata": {},
   "outputs": [
    {
     "data": {
      "application/vnd.jupyter.widget-view+json": {
       "model_id": "51bd31c8f5964e349f4108b9ea79f3b0",
       "version_major": 2,
       "version_minor": 0
      },
      "text/html": [
       "<p>Failed to display Jupyter Widget of type <code>interactive</code>.</p>\n",
       "<p>\n",
       "  If you're reading this message in the Jupyter Notebook or JupyterLab Notebook, it may mean\n",
       "  that the widgets JavaScript is still loading. If this message persists, it\n",
       "  likely means that the widgets JavaScript library is either not installed or\n",
       "  not enabled. See the <a href=\"https://ipywidgets.readthedocs.io/en/stable/user_install.html\">Jupyter\n",
       "  Widgets Documentation</a> for setup instructions.\n",
       "</p>\n",
       "<p>\n",
       "  If you're reading this message in another frontend (for example, a static\n",
       "  rendering on GitHub or <a href=\"https://nbviewer.jupyter.org/\">NBViewer</a>),\n",
       "  it may mean that your frontend doesn't currently support widgets.\n",
       "</p>\n"
      ],
      "text/plain": [
       "interactive(children=(IntSlider(value=0, description='Time step', max=80), Output()), _dom_classes=('widget-interact',))"
      ]
     },
     "metadata": {},
     "output_type": "display_data"
    }
   ],
   "source": [
    "sigma = 0.5\n",
    "dt = sigma*dx/u_max\n",
    "nt = 80\n",
    "rho_hist = lax_friedrichs(rho0, nt, dt, dx, u_max, rho_max)\n",
    "interactive_plot(x, rho_hist)"
   ]
  },
  {
   "cell_type": "code",
   "execution_count": 41,
   "metadata": {},
   "outputs": [],
   "source": [
    "def traffic_jacobian(rho, u_max, rho_max):\n",
    "    J = u_max*(1-2*rho/rho_max)\n",
    "    return J\n",
    "\n",
    "def lax_wendroff(rho0, nt, dt, dx, u_max, rho_max):\n",
    "    rho_hist = [rho0.copy()]\n",
    "    rho = rho0.copy()\n",
    "    for n in range(nt):\n",
    "        F = traffic_flux(rho, u_max, rho_max)\n",
    "        J = traffic_jacobian(rho, u_max, rho_max)\n",
    "        rho[1:-1] = (rho[1:-1]-dt/(2*dx)*(F[2:]-F[:-2]) + \n",
    "                     dt**2/(4*dx**2)*((J[1:-1]+ J[2:])*(F[2:]-F[1:-1])-\n",
    "                                      (J[:-2]+ J[1:-1])*(F[1:-1]-F[:-2])))\n",
    "        rho_hist.append(rho.copy())\n",
    "    return rho_hist"
   ]
  },
  {
   "cell_type": "code",
   "execution_count": 43,
   "metadata": {},
   "outputs": [
    {
     "data": {
      "application/vnd.jupyter.widget-view+json": {
       "model_id": "b113cdfdf3174fcb9637327dc0ccfe05",
       "version_major": 2,
       "version_minor": 0
      },
      "text/html": [
       "<p>Failed to display Jupyter Widget of type <code>interactive</code>.</p>\n",
       "<p>\n",
       "  If you're reading this message in the Jupyter Notebook or JupyterLab Notebook, it may mean\n",
       "  that the widgets JavaScript is still loading. If this message persists, it\n",
       "  likely means that the widgets JavaScript library is either not installed or\n",
       "  not enabled. See the <a href=\"https://ipywidgets.readthedocs.io/en/stable/user_install.html\">Jupyter\n",
       "  Widgets Documentation</a> for setup instructions.\n",
       "</p>\n",
       "<p>\n",
       "  If you're reading this message in another frontend (for example, a static\n",
       "  rendering on GitHub or <a href=\"https://nbviewer.jupyter.org/\">NBViewer</a>),\n",
       "  it may mean that your frontend doesn't currently support widgets.\n",
       "</p>\n"
      ],
      "text/plain": [
       "interactive(children=(IntSlider(value=0, description='Time step', max=40), Output()), _dom_classes=('widget-interact',))"
      ]
     },
     "metadata": {},
     "output_type": "display_data"
    }
   ],
   "source": [
    "sigma = 1\n",
    "dt = sigma*dx/u_max\n",
    "nt = 40\n",
    "rho_hist = lax_wendroff(rho0, nt, dt, dx, u_max, rho_max)\n",
    "interactive_plot(x, rho_hist)"
   ]
  },
  {
   "cell_type": "code",
   "execution_count": 44,
   "metadata": {},
   "outputs": [
    {
     "data": {
      "application/vnd.jupyter.widget-view+json": {
       "model_id": "996c6a53604640e08ac630b3b5d1dc8d",
       "version_major": 2,
       "version_minor": 0
      },
      "text/html": [
       "<p>Failed to display Jupyter Widget of type <code>interactive</code>.</p>\n",
       "<p>\n",
       "  If you're reading this message in the Jupyter Notebook or JupyterLab Notebook, it may mean\n",
       "  that the widgets JavaScript is still loading. If this message persists, it\n",
       "  likely means that the widgets JavaScript library is either not installed or\n",
       "  not enabled. See the <a href=\"https://ipywidgets.readthedocs.io/en/stable/user_install.html\">Jupyter\n",
       "  Widgets Documentation</a> for setup instructions.\n",
       "</p>\n",
       "<p>\n",
       "  If you're reading this message in another frontend (for example, a static\n",
       "  rendering on GitHub or <a href=\"https://nbviewer.jupyter.org/\">NBViewer</a>),\n",
       "  it may mean that your frontend doesn't currently support widgets.\n",
       "</p>\n"
      ],
      "text/plain": [
       "interactive(children=(IntSlider(value=0, description='Time step', max=80), Output()), _dom_classes=('widget-interact',))"
      ]
     },
     "metadata": {},
     "output_type": "display_data"
    }
   ],
   "source": [
    "sigma = 0.5\n",
    "dt = sigma*dx/u_max\n",
    "nt = 80\n",
    "rho_hist = lax_wendroff(rho0, nt, dt, dx, u_max, rho_max)\n",
    "interactive_plot(x, rho_hist)"
   ]
  },
  {
   "cell_type": "code",
   "execution_count": null,
   "metadata": {},
   "outputs": [],
   "source": []
  }
 ],
 "metadata": {
  "kernelspec": {
   "display_name": "Python 3",
   "language": "python",
   "name": "python3"
  },
  "language_info": {
   "codemirror_mode": {
    "name": "ipython",
    "version": 3
   },
   "file_extension": ".py",
   "mimetype": "text/x-python",
   "name": "python",
   "nbconvert_exporter": "python",
   "pygments_lexer": "ipython3",
   "version": "3.6.4"
  }
 },
 "nbformat": 4,
 "nbformat_minor": 2
}
