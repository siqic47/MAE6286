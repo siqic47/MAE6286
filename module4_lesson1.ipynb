{
 "cells": [
  {
   "cell_type": "code",
   "execution_count": 1,
   "metadata": {},
   "outputs": [],
   "source": [
    "import numpy\n",
    "from matplotlib import pyplot\n",
    "%matplotlib inline"
   ]
  },
  {
   "cell_type": "code",
   "execution_count": 2,
   "metadata": {},
   "outputs": [],
   "source": [
    "nx = 51\n",
    "sigma = 0.5\n",
    "alpha = 1.22e-3\n",
    "L = 1.0\n",
    "dx = L/(nx-1)\n",
    "nt = 1000\n",
    "dt = sigma*dx**2/alpha"
   ]
  },
  {
   "cell_type": "code",
   "execution_count": 3,
   "metadata": {},
   "outputs": [],
   "source": [
    "x = numpy.linspace(0.0,L,nx)\n",
    "T0 = numpy.zeros_like(x)\n",
    "T0[0] = 100\n",
    "T0[-1] = 0"
   ]
  },
  {
   "cell_type": "code",
   "execution_count": 4,
   "metadata": {},
   "outputs": [],
   "source": [
    "def FTCS(T0, nt, dt, dx, alpha, condition, q=0.0):\n",
    "    T = T0.copy()\n",
    "    for i in range(nt):\n",
    "        T[1:-1] = T[1:-1] + alpha*dt/dx**2 * (T[:-2]-2*T[1:-1]+T[2:])\n",
    "        T[0] = T0[0]\n",
    "        if condition=='N':\n",
    "            T[-1] = T[-2] + q * dx\n",
    "        elif condition=='D':\n",
    "            T[-1] = T0[-1]\n",
    "    return T"
   ]
  },
  {
   "cell_type": "code",
   "execution_count": 5,
   "metadata": {},
   "outputs": [],
   "source": [
    "T_d = FTCS(T0, nt, dt, dx, alpha, 'D')"
   ]
  },
  {
   "cell_type": "code",
   "execution_count": 6,
   "metadata": {},
   "outputs": [],
   "source": [
    "T_n = FTCS(T0, nt, dt, dx, alpha, 'N', 0.0)"
   ]
  },
  {
   "cell_type": "code",
   "execution_count": 7,
   "metadata": {},
   "outputs": [
    {
     "data": {
      "text/plain": [
       "<matplotlib.legend.Legend at 0x7fc7781eaac8>"
      ]
     },
     "execution_count": 7,
     "metadata": {},
     "output_type": "execute_result"
    },
    {
     "data": {
      "image/png": "[encoded data removed]",
      "text/plain": [
       "<Figure size 432x288 with 1 Axes>"
      ]
     },
     "metadata": {
      "needs_background": "light"
     },
     "output_type": "display_data"
    }
   ],
   "source": [
    "pyplot.plot(x, T_d, label='dirichlet')\n",
    "pyplot.plot(x, T_n, label='neumann')\n",
    "pyplot.legend()"
   ]
  },
  {
   "cell_type": "code",
   "execution_count": null,
   "metadata": {},
   "outputs": [],
   "source": []
  }
 ],
 "metadata": {
  "kernelspec": {
   "display_name": "Python 3",
   "language": "python",
   "name": "python3"
  },
  "language_info": {
   "codemirror_mode": {
    "name": "ipython",
    "version": 3
   },
   "file_extension": ".py",
   "mimetype": "text/x-python",
   "name": "python",
   "nbconvert_exporter": "python",
   "pygments_lexer": "ipython3",
   "version": "3.7.3"
  }
 },
 "nbformat": 4,
 "nbformat_minor": 2
}
