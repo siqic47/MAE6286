{
 "cells": [
  {
   "cell_type": "code",
   "execution_count": 1,
   "metadata": {},
   "outputs": [],
   "source": [
    "import numpy\n",
    "from matplotlib import pyplot\n",
    "%matplotlib inline"
   ]
  },
  {
   "cell_type": "code",
   "execution_count": 2,
   "metadata": {},
   "outputs": [],
   "source": [
    "L = 0.01\n",
    "nx,ny=21, 21\n",
    "dx=L/(nx-1)\n",
    "dy=L/(ny-1)\n",
    "x=numpy.linspace(0.0,L,nx)\n",
    "y=numpy.linspace(0.0,L,ny)\n",
    "\n",
    "alpha=1e-4\n",
    "\n",
    "#initial condition\n",
    "T0=numpy.full((ny,nx), 20.0)\n",
    "T0[0,:]=100.0\n",
    "T0[:,0]=100.0"
   ]
  },
  {
   "cell_type": "code",
   "execution_count": 5,
   "metadata": {},
   "outputs": [],
   "source": [
    "def btcs(T0, nt,dt,delta,alpha):\n",
    "    sigma=alpha*dt/delta**2\n",
    "    A = lhs_operator()\n",
    "    T = map_2d_to_1d(T0)\n",
    "    #integrate in time\n",
    "    for n in range(nt):\n",
    "        b=rhs.vector()\n",
    "        T = numpy.linalg.solve(A,b)\n",
    "    return map_1d_to_2d(T)"
   ]
  },
  {
   "cell_type": "code",
   "execution_count": null,
   "metadata": {},
   "outputs": [],
   "source": [
    "def lhs_operator(M,N):\n",
    "    A = numpy.zeros((M*N, M*N))\n",
    "    for j in range(N):\n",
    "        for i in range(M):\n",
    "            I = j * M +i\n",
    "            west = I-1\n",
    "            east =  I+1\n",
    "            south=I-M\n",
    "            north=I+M\n",
    "            if i==0 and j==0:\n",
    "                A[I,I] = 1/sigma+4\n",
    "                A[I,east] = -1.0\n",
    "                A[I,north] = -1.0\n",
    "            elif i==M-1 and j==0:\n",
    "                A[I,I] = 1.0/sigma+3.0\n",
    "                A[I,west]=-1.0\n",
    "                A[I,north]=-1.0\n",
    "            elif i==0 and j==N-1:\n",
    "                A[I,I] = 1.0/sigma+3.0\n",
    "                A[I,south] = -1.0\n",
    "                A[I,east] = -1.0"
   ]
  }
 ],
 "metadata": {
  "kernelspec": {
   "display_name": "Python 3",
   "language": "python",
   "name": "python3"
  },
  "language_info": {
   "codemirror_mode": {
    "name": "ipython",
    "version": 3
   },
   "file_extension": ".py",
   "mimetype": "text/x-python",
   "name": "python",
   "nbconvert_exporter": "python",
   "pygments_lexer": "ipython3",
   "version": "3.7.3"
  }
 },
 "nbformat": 4,
 "nbformat_minor": 2
}
